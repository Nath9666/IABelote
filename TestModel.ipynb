{
 "cells": [
  {
   "cell_type": "code",
   "execution_count": 9,
   "metadata": {},
   "outputs": [
    {
     "name": "stdout",
     "output_type": "stream",
     "text": [
      "\u001b[1m1/1\u001b[0m \u001b[32m━━━━━━━━━━━━━━━━━━━━\u001b[0m\u001b[37m\u001b[0m \u001b[1m0s\u001b[0m 32ms/step\n",
      "Le chiffre reconnu est : 4\n"
     ]
    }
   ],
   "source": [
    "import cv2\n",
    "import numpy as np\n",
    "import tensorflow as tf\n",
    "from tensorflow.keras.models import load_model\n",
    "\n",
    "# Charger le modèle MNIST pré-entraîné\n",
    "mnist_model = tf.keras.models.load_model('mnist_model.keras')\n",
    "\n",
    "# Charger et prétraiter l'image\n",
    "image_path = './data/1_.png'\n",
    "image = cv2.imread(image_path, cv2.IMREAD_GRAYSCALE)\n",
    "image = cv2.resize(image, (28, 28))\n",
    "image = image / 255.0  # Normaliser les valeurs des pixels à [0, 1]\n",
    "\n",
    "# Redimensionner l'image pour qu'elle corresponde à l'entrée attendue du modèle\n",
    "image = np.reshape(image, (1, 28, 28, 1))\n",
    "\n",
    "# Prédire le chiffre\n",
    "predictions = mnist_model.predict(image)\n",
    "predicted_digit = np.argmax(predictions)\n",
    "\n",
    "print(f'Le chiffre reconnu est : {predicted_digit}')"
   ]
  }
 ],
 "metadata": {
  "kernelspec": {
   "display_name": "Python 3",
   "language": "python",
   "name": "python3"
  },
  "language_info": {
   "codemirror_mode": {
    "name": "ipython",
    "version": 3
   },
   "file_extension": ".py",
   "mimetype": "text/x-python",
   "name": "python",
   "nbconvert_exporter": "python",
   "pygments_lexer": "ipython3",
   "version": "3.11.0"
  }
 },
 "nbformat": 4,
 "nbformat_minor": 2
}
